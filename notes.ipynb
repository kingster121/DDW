{
 "cells": [
  {
   "cell_type": "markdown",
   "metadata": {},
   "source": [
    "## Bubble Sort\n",
    "Possible optimisation:\n",
    "1. A bool value that chooses when to stop: `swapped`\n",
    "2. Reduce the number of inner_iteration by `n = n-1` by outer iteration\n",
    "3. Don't have to decrease the ending_element by just once per loop. It can happen that more than one element was placed into their final position in one outer iteration. `n = n_new`"
   ]
  },
  {
   "cell_type": "code",
   "execution_count": 27,
   "metadata": {},
   "outputs": [
    {
     "name": "stdout",
     "output_type": "stream",
     "text": [
      "[1, 2, 3, 4, 7, 8, 8, 10, 14, 16]\n"
     ]
    }
   ],
   "source": [
    "## Bubble sort\n",
    "arr = [16, 14, 10, 8, 7, 8, 3, 2, 4, 1]\n",
    "\n",
    "n = len(arr)\n",
    "swapped = True #When swap=False, the arr is in order\n",
    "\n",
    "# Outer loop that chooses the final element - n=new_n - to swap\n",
    "while(swapped):\n",
    "\tswapped = False # Turn false for now, if swap occurs, turn true again\n",
    "\tnew_n = 0\n",
    "\t\n",
    "\t# Inner loop that does the swapping\n",
    "\tfor inner_index in range(1, n):\n",
    "\t\tfirst_number = arr[inner_index-1] # First loop: first element\n",
    "\t\tsecond_number = arr[inner_index] # First loop: second element\n",
    "\t\t\n",
    "\t\tif(first_number > second_number):\n",
    "\t\t\tarr[inner_index-1], arr[inner_index] = arr[inner_index], arr[inner_index-1]\n",
    "\t\t\tswapped = True # Swap occurred\n",
    "\t\t\tnew_n = inner_index # new_n is basically the element that is already sorted\n",
    "\tn = new_n\n",
    "\t\n",
    "print(arr)"
   ]
  },
  {
   "cell_type": "markdown",
   "metadata": {},
   "source": [
    "## Insertion Sort\n",
    "Given an array `[7, 8, 10, 14, 16, 8, 3, 2, 4, 1]`\n",
    "The first iteration starts looking at the 2nd element `8`, but since everything in front of it is sorted, it passes.\n",
    "Second iteration same thing but looks at `10` instead\n",
    "...\n",
    "5th iteration looks at '8' and inserts it all the way to the front, WHILE shifting the other elements rightward\n",
    "\n",
    "Optimisation:\n",
    "1. Instead of swapping everything, just shift other element, but INSERT the targeted element that the outer_loop is looking at"
   ]
  },
  {
   "cell_type": "code",
   "execution_count": 28,
   "metadata": {},
   "outputs": [
    {
     "name": "stdout",
     "output_type": "stream",
     "text": [
      "[1, 2, 3, 4, 7, 8, 8, 10, 14, 16]\n"
     ]
    }
   ],
   "source": [
    "## Insertion Sort\n",
    "arr = [16, 14, 10, 8, 7, 8, 3, 2, 4, 1]\n",
    "n = len(arr)\n",
    "\n",
    "for outer_index in range(1, n):\n",
    "    inner_index = outer_index # start with the i-th element\n",
    "    temp = arr[inner_index] # store the value of the thing to be swapped\n",
    "    while(inner_index > 0 and temp < arr[inner_index-1]):\n",
    "        arr[inner_index] = arr[inner_index-1] # instead of doing a swap here, just shift the left element rightwards\n",
    "        inner_index = inner_index - 1 # move leftwards\n",
    "    arr[inner_index] = temp # move the temp into the array\n",
    "\n",
    "print(arr)"
   ]
  },
  {
   "cell_type": "markdown",
   "metadata": {},
   "source": [
    "## Binary Heap\n",
    "Binary heap is a complete binary tree-based data structure that satisfies the heap property.\n",
    "\n",
    "### Binary Tree\n",
    "- One root node\n",
    "- Each node has 2 children: left child and right child\n",
    "- Node w/o children are called leaves\n",
    "- **Full binary tree**: Every node except leaves have 2 children\n",
    "- **Complete binary tree**: Every level, except possibly the last is completely filled. And all nodes are as left as possible.\n",
    "\n",
    "### Finding chlidren and parents\n",
    "- Finding left child: `(parent_index*2) + 1`\n",
    "- Finding right child: `(parent_index*2) + 2`"
   ]
  },
  {
   "cell_type": "code",
   "execution_count": 29,
   "metadata": {},
   "outputs": [],
   "source": [
    "def max_child(array: list[int|float], index: int, heap_size: int):\n",
    "    \"\"\"Returns index of bigger child\"\"\"\n",
    "    left = index*2 + 1\n",
    "    right = index*2 + 2\n",
    "\n",
    "    # If there only exist left child, by default, the left child will be the max child\n",
    "    if right>=heap_size:\n",
    "        return left\n",
    "    if array[left]>array[right]:\n",
    "        return left\n",
    "    return right"
   ]
  },
  {
   "cell_type": "code",
   "execution_count": 30,
   "metadata": {},
   "outputs": [
    {
     "name": "stdout",
     "output_type": "stream",
     "text": [
      "[16, 14, 10, 8, 7, 9, 3, 2, 4, 1]\n"
     ]
    }
   ],
   "source": [
    "def max_heapify(array: list[int|float], index: int, size: int) -> None:\n",
    "    \"\"\"\n",
    "    1. Assumes that the whole heap except for the current node and the children are sorted\n",
    "    2. Any unsortedness after swapping is only caused to the swapped children\n",
    "    \"\"\"\n",
    "    current_i = index\n",
    "    swapped = True\n",
    "\n",
    "    while(current_i < size and swapped):\n",
    "        swapped = False\n",
    "        left = current_i*2 + 1\n",
    "        right = current_i*2 + 2 \n",
    "\n",
    "        # Exit if there is no left child. It is a leaf node\n",
    "        if left>=size:\n",
    "            break\n",
    "\n",
    "        max_child_i = max_child(array, current_i, size)\n",
    "\n",
    "        # Swap child and current element\n",
    "        if array[max_child_i]>array[current_i]:\n",
    "            array[max_child_i], array[current_i] = array[current_i], array[max_child_i]\n",
    "            swapped = True\n",
    "\n",
    "        current_i = max_child_i\n",
    "\n",
    "# Test max_heapify\n",
    "result: list[int|float] = [16, 4, 10, 14, 7, 9, 3, 2, 8, 1]\n",
    "max_heapify(result, 1, len(result))\n",
    "print(result)\n",
    "assert result == [16, 14, 10, 8, 7, 9, 3, 2, 4, 1]"
   ]
  },
  {
   "cell_type": "code",
   "execution_count": 31,
   "metadata": {},
   "outputs": [
    {
     "name": "stdout",
     "output_type": "stream",
     "text": [
      "[16, 14, 10, 8, 7, 9, 3, 2, 4, 1]\n"
     ]
    }
   ],
   "source": [
    "## Build Max Heap\n",
    "def build_max_heap(array: list[int|float]) -> None:\n",
    "    \"\"\"\n",
    "    1. Find the last parent element and start heapifying from there\n",
    "    2. Increase upwards the heapify towards the root\n",
    "    \"\"\"\n",
    "    starting_index = len(array)//2 - 1\n",
    "\n",
    "    for current_index in range(starting_index, -1, -1):\n",
    "        max_heapify(array, current_index, len(array))\n",
    "\n",
    "# Test build_max_heap\n",
    "array: list[int|float] = [4, 1, 3, 2, 16, 9, 10, 14, 8, 7]\n",
    "build_max_heap(array)\n",
    "print(array)\n",
    "assert array == [16, 14, 10, 8, 7, 9, 3, 2, 4, 1]\n"
   ]
  },
  {
   "cell_type": "markdown",
   "metadata": {},
   "source": [
    "## Heapsort\n",
    "There is only 2 steps to heapsort\n",
    "1. Take the root element and swap with the last element. Then remove the now last element and put it into a sorted list. <br />\n",
    "`heap = [16, 14, 9, 10, 2, 8, 3, 7, 4, 1]` <br />\n",
    "`heap = [1, 14, 9, 10, 2, 8, 3, 7, 4 ,|| 16]`\n",
    "2. Apply max_heapify on the now root element <br />\n",
    "`heap = [14, 10, 9, 7, 2, 8, 3, 1, 4, || 16]`\n",
    "3. Rinse and repeat step 1&2"
   ]
  },
  {
   "cell_type": "code",
   "execution_count": 32,
   "metadata": {},
   "outputs": [
    {
     "name": "stdout",
     "output_type": "stream",
     "text": [
      "[1, 2, 3, 4, 7, 8, 9, 10, 14, 16]\n"
     ]
    }
   ],
   "source": [
    "def heapsort(array: list[int|float]) -> None:\n",
    "    \"\"\"\n",
    "    1. Build max heap\n",
    "    2. Swap root and last element\n",
    "    3. Max heapify the root element. Exclude the last element from future sorts\n",
    "    4. Repeat step 2 & 3\n",
    "    \"\"\"\n",
    "    build_max_heap(array)\n",
    "    n = len(array) - 1\n",
    "\n",
    "    for last_element in range(n,0,-1):\n",
    "        array[last_element], array[0] = array[0], array[last_element]\n",
    "        max_heapify(array, 0, last_element)\n",
    "\n",
    "## Test \n",
    "array: list[int|float] = [16, 14, 10, 8, 7, 9, 3, 2, 4, 1]\n",
    "heapsort(array)\n",
    "print(array)\n",
    "assert array == [1, 2, 3, 4, 7, 8, 9, 10, 14, 16]"
   ]
  },
  {
   "cell_type": "markdown",
   "metadata": {},
   "source": [
    "## Computational Time\n",
    "Big O notation: Upper bound limit\n",
    "\n",
    "| Sorting Algo    | Random List  | Sorted List  | \n",
    "| --------------- | ------------ | ------------ |\n",
    "| Bubble Sort     | $O(n^2)$     | $O(n)$       |\n",
    "| Insertion sort  | $O(n^2)$     | $O(n)$       |\n",
    "| Heap sort       | $O(nlog(n))$ | $O(nlog(n))$ | \n",
    "\n",
    "\n",
    "\n",
    "$T(n) = O(n^2)$ <br>\n",
    "For the above algorithm, plot both the x and y-axis using logarithmic scale. We should see that we get a linear slope of gradient 2. <br>\n",
    "$y=x^2$ <br>\n",
    "if we log both sides, we would get <br>\n",
    "$log(y) = 2log(x)$\n",
    "\n",
    "$T(n) = O(nlog(n))$\n",
    "For the above algorithm, plot just the x-axis as $nlog(n)$ to see the linear relationship."
   ]
  },
  {
   "cell_type": "markdown",
   "metadata": {},
   "source": [
    "### Analysing Computation Time using Model\n",
    "Break the algortihm into its steps instead of running experiments.\n",
    "\n",
    "Note that Big O doesn't care about the constant factors - multiplication is ignored.\n",
    "- O(n/2) = O(n)\n",
    "- 2*O(1) = O(1)\n",
    "\n",
    "### Multiplying between 2 Big O's\n",
    "- $O(n) * O(log(n)) = O(nlog(n))$\n",
    "\n",
    "### Understanding Maxheapify\n",
    "`while((current_i < n) and swapped):` This line runs at `O(log(n))`, think of the number of levels vs the number nodes relationship."
   ]
  },
  {
   "cell_type": "markdown",
   "metadata": {},
   "source": [
    "### Big Oh (Upper Bound)\n",
    "Used to define the upperbound on the growth of a function\n",
    "$f(x) = O(g(x))$ <br>\n",
    "if and only if <br>\n",
    "$lim_{x \\rightarrow \\infty} sup \\frac{f(x)}{g(x)} < \\infty$\n",
    "\n",
    "### Big Omega (Lower Bound)\n",
    "Used to describe the lowerbound of an algorithm, expresses the best case running time of an algorithm                             \n",
    "\n",
    "### Big Theta (Average Bound)\n",
    "Used to describe the average bound of the algorithm. Used when the upper and lower bound can be expressed as the same g(n). <br>\n",
    "$c_1g(n) \\leq f(n) \\leq c_2g(n)$\n",
    "\n",
    "### Little Oh (*STRICT* Upper Bound)\n",
    "Describes a strict upper bound. If f(n)=o(g(n)) then f(n) grows strictly slower than g(n)"
   ]
  },
  {
   "cell_type": "markdown",
   "metadata": {},
   "source": [
    "## Recursion\n",
    "When the problem can be broken down into smaller problems that seemed to be a mini version of itself. Recursion can be used, use the idea of divide and conquer. And the problem is small enough, hopefully it is trivial. Then combine the solution upwards.\n",
    "- Base case: When to terminate the recursion. Trivial and terminating\n",
    "- Recursive case: The subproblem should be the **same** but **smaller** problem"
   ]
  },
  {
   "cell_type": "code",
   "execution_count": 33,
   "metadata": {},
   "outputs": [
    {
     "name": "stdout",
     "output_type": "stream",
     "text": [
      "6\n"
     ]
    }
   ],
   "source": [
    "def recursive_sum(arr: list) -> int:\n",
    "    # Base case: If arr is of length 1, return the number itself\n",
    "    if len(arr) == 1:\n",
    "        return arr[0]\n",
    "    # Recursive case: Returns the first element + the recursive_sum of those after it\n",
    "    else:\n",
    "        return arr[0] + recursive_sum(arr[1::])\n",
    "    \n",
    "print(recursive_sum([3,1,2]))"
   ]
  },
  {
   "cell_type": "code",
   "execution_count": 34,
   "metadata": {},
   "outputs": [],
   "source": [
    "def recursive_factorial(arr: list) -> int:\n",
    "    # Same as recursive sum\n",
    "    pass"
   ]
  },
  {
   "cell_type": "code",
   "execution_count": 35,
   "metadata": {},
   "outputs": [
    {
     "name": "stdout",
     "output_type": "stream",
     "text": [
      "Move disk 1 from A to B\n",
      "Move disk 2 from A to C\n",
      "Move disk 1 from B to C\n",
      "Move disk 3 from A to B\n",
      "Move disk 1 from C to A\n",
      "Move disk 2 from C to B\n",
      "Move disk 1 from A to B\n"
     ]
    }
   ],
   "source": [
    "def recursive_tower(n:int, source, destination, auxilary):\n",
    "    \"\"\"\n",
    "    For 3 disks to go from source to destination, there needs to be a previous step\n",
    "    - MOVE 2 smaller disks from source into the auxilary (RECURSION)\n",
    "    - Put the last BIGGEST disk into destination\n",
    "    - MOVE the 2 smaller disks from auxilary into destination (RECURSION)\n",
    "    \"\"\"\n",
    "    if n==1:\n",
    "        print(f\"Move disk 1 from {source} to {destination}\")\n",
    "        return\n",
    "\n",
    "    # Move the first n-1 disks from source to auxilary tower\n",
    "    recursive_tower(n-1, source, auxilary, destination)\n",
    "\n",
    "    # Move disk from source to destination\n",
    "    print(f\"Move disk {n} from {source} to {destination}\")\n",
    "\n",
    "    # Move first n-1 disks from aux to dest tower\n",
    "    recursive_tower(n-1, auxilary, destination, source)\n",
    "\n",
    "n = 3\n",
    "recursive_tower(n, 'A', 'B', 'C')"
   ]
  },
  {
   "cell_type": "code",
   "execution_count": 36,
   "metadata": {},
   "outputs": [
    {
     "name": "stdout",
     "output_type": "stream",
     "text": [
      "[1, 2, 3, 4, 100]\n"
     ]
    }
   ],
   "source": [
    "def merge_sort(arr: list[int], p:int, r: int):\n",
    "    if r-p>0:\n",
    "        q = (p+r)//2 # Calculates the last element of first half\n",
    "        merge_sort(arr, p, q) # Mergesort on the first half of the array\n",
    "        merge_sort(arr, q+1, r) # Mergesort on the second half of the array\n",
    "        merge(arr, p, q, r)\n",
    "\n",
    "def merge(arr: list[int], p:int, q:int, r:int):\n",
    "    nleft = q - p + 1 # Plus 1 because, array[p,.., q]\n",
    "    nright = r - q # No plus 1 because array[q+1, ..., r]\n",
    "\n",
    "    # Splice the array\n",
    "    left_array = arr[p:q+1]\n",
    "    right_array = arr[q+1:r+1]\n",
    "\n",
    "    left, right, dest = 0, 0, p\n",
    "\n",
    "    # If both left and righ array have elements in them\n",
    "    while (left<nleft and right<nright):\n",
    "        if left_array[left] <= right_array[right]:\n",
    "            arr[dest] = left_array[left]\n",
    "            left += 1\n",
    "        else:\n",
    "            arr[dest] = right_array[right]\n",
    "            right += 1\n",
    "        dest += 1\n",
    "\n",
    "    # If only left array have elements in them\n",
    "    while left<nleft:\n",
    "        arr[dest] = left_array[left]\n",
    "        left += 1\n",
    "        dest += 1\n",
    "\n",
    "    # If only right array have elements in them\n",
    "    while right<nright:\n",
    "        arr[dest] = right_array[right]\n",
    "        right += 1\n",
    "        dest += 1\n",
    "\n",
    "arr = [1, 2, 100, 3, 4]\n",
    "merge_sort(arr, 0, len(arr)-1)\n",
    "\n",
    "print(arr)"
   ]
  },
  {
   "attachments": {
    "image.png": {
     "image/png": "[encoded data removed]"
    }
   },
   "cell_type": "markdown",
   "metadata": {},
   "source": [
    "## Object Orientated Programming\n",
    "- Attribute: Defines the characteristic\n",
    "- Method: Defines what the object can do\n",
    "\n",
    "*Class definition* simply creates a blueprint of what the object is/can do. *Instantiation* is the step that actually creates the object.\n",
    "\n",
    "The reason why `self` is always the first argument of a method is because `self` refers to the particular object instance of the class.\n",
    "\n",
    "### Encapsulation\n",
    "Data should be bundled together with the methods to access it. Data should be hidden from outside the object. If anyone wants to change the state of the object, they would need to do so through a method.\n",
    "\n",
    "Encapsulation also allows us to change the internal data without changing the interface to access the data. In the above example, we store the position as a tuple. But what if we want to use list or dictionary instead? If we create methods to access these internal data, we can change the internal data without changing the way other objects interact with our data. The key is to keep the interface consistent and stable. We do these by creating methods to access our internal data.\n",
    "\n",
    "![image.png](attachment:image.png)\n",
    "\n",
    "Do note that **property is not the same as an attribute**\n",
    "\n",
    "Also note in the example below on the RobotTurtle scenario below. Using a getter and setter does not make the variable actually private. The variable can still be accessed directly through `robot._name = \"James\"` instead of accessing it through the getter such as `robot.name = \"James\"` which would throw an error\n",
    "\n",
    "### Abstraction\n",
    "One of the purpose is abstraction. Anyone working with the object does not need to know how the state or the data inside the object is implemented. "
   ]
  },
  {
   "cell_type": "code",
   "execution_count": 37,
   "metadata": {},
   "outputs": [
    {
     "data": {
      "text/plain": [
       "'James'"
      ]
     },
     "execution_count": 37,
     "metadata": {},
     "output_type": "execute_result"
    }
   ],
   "source": [
    "# Encapsulation 1 - Getter and setter\n",
    "class RobotTurtle:\n",
    "    # Attributes:\n",
    "    def __init__(self, name, speed=1):\n",
    "        self.name = name\n",
    "        self.speed = speed\n",
    "        self._pos = (0, 0)\n",
    "\n",
    "    # property getter\n",
    "    @property\n",
    "    def name(self):\n",
    "        return self._name\n",
    "\n",
    "    # property setter\n",
    "    @name.setter\n",
    "    def name(self, value):\n",
    "        if isinstance(value, str) and value != \"\":\n",
    "            self._name = value\n",
    "\n",
    "    # property getter\n",
    "    @property\n",
    "    def speed(self):\n",
    "        return self._speed\n",
    "\n",
    "    # property setter\n",
    "    @speed.setter\n",
    "    def speed(self, value):\n",
    "        if isinstance(value, int) and value > 0:\n",
    "            self._speed = value\n",
    "\n",
    "    # property getter\n",
    "    @property\n",
    "    def pos(self):\n",
    "        return self._pos\n",
    "\n",
    "    # Methods:\n",
    "    def move(self, direction):\n",
    "        update = {'up' : (self.pos[0], self.pos[1] + self.speed),\n",
    "                  'down' : (self.pos[0], self.pos[1] - self.speed),\n",
    "                  'left' : (self.pos[0] - self.speed, self.pos[1]),\n",
    "                  'right' : (self.pos[0] + self.speed, self.pos[1])}\n",
    "        self._pos = update[direction]\n",
    "\n",
    "\n",
    "    def tell_name(self):\n",
    "        print(f\"My name is {self.name}\")\n",
    "\n",
    "robot = RobotTurtle(\"Tom\")\n",
    "robot._pos = \"James\"\n",
    "robot.pos"
   ]
  },
  {
   "cell_type": "code",
   "execution_count": 38,
   "metadata": {},
   "outputs": [],
   "source": [
    "# Encapsulation2 - Computed property\n",
    "import math\n",
    "class Coordinate:\n",
    "\n",
    "    def __init__(self, x=0, y=0):\n",
    "        self.x = x\n",
    "        self.y = y\n",
    "\n",
    "    @property\n",
    "    def distance(self):\n",
    "        \"\"\"\n",
    "        In this example, the distance is a property since it does not require a parenthesis to be called.\n",
    "        So when to use computed property such as this, when the computation is\n",
    "        1. Easy\n",
    "        2. Requires only the object's own attribute and not any outside argument\n",
    "        \"\"\"\n",
    "        return math.sqrt(self.x * self.x + self.y * self.y)"
   ]
  },
  {
   "cell_type": "code",
   "execution_count": 39,
   "metadata": {},
   "outputs": [],
   "source": [
    "# Encapsulation 3 - Composition\n",
    "\"\"\"\n",
    "Instead of making the position as a tuple, initiate it as a Coordinate object. Allows us to use attribute names like self.pos.x instead of self.pos[0] which is not as intuitive\n",
    "\"\"\"\n",
    "def __init__(self, name, speed=1):\n",
    "    self.name = name\n",
    "    self.speed = speed\n",
    "    self._pos = Coordinate(0, 0)\n",
    "\n",
    "def move(self, direction):\n",
    "    update = {'up' : Coordinate(self.pos.x, self.pos.y + self.speed),\n",
    "                'down' : Coordinate(self.pos.x, self.pos.y - self.speed),\n",
    "                'left' : Coordinate(self.pos.x - self.speed, self.pos.y),\n",
    "                'right' : Coordinate(self.pos.x + self.speed, self.pos.y)}\n",
    "    self._pos = update[direction]"
   ]
  },
  {
   "cell_type": "markdown",
   "metadata": {},
   "source": [
    "### Special Methods\n",
    "`__init__()` is always called during object instantiation. \n",
    "\n",
    "`__str__()` is called when trying to convert the object into a string. Look at example below"
   ]
  },
  {
   "cell_type": "code",
   "execution_count": 40,
   "metadata": {},
   "outputs": [
    {
     "name": "stdout",
     "output_type": "stream",
     "text": [
      "<__main__.Coordinate object at 0x7fb585321070>\n"
     ]
    }
   ],
   "source": [
    "p1 = Coordinate(2, 3)\n",
    "print(p1)"
   ]
  },
  {
   "cell_type": "code",
   "execution_count": 41,
   "metadata": {},
   "outputs": [
    {
     "name": "stdout",
     "output_type": "stream",
     "text": [
      "(2, 3)\n"
     ]
    }
   ],
   "source": [
    "import math\n",
    "\n",
    "class Coordinate:\n",
    "\n",
    "    def __init__(self, x=0, y=0):\n",
    "        self.x = x\n",
    "        self.y = y\n",
    "\n",
    "    @property\n",
    "    def distance(self):\n",
    "        return math.sqrt(self.x * self.x + self.y * self.y)\n",
    "\n",
    "    def __str__(self):\n",
    "        \"\"\"\n",
    "        This overrides the default __str__() method\n",
    "        \"\"\"\n",
    "        return f\"({self.x}, {self.y})\"\n",
    "    \n",
    "p1 = Coordinate(2, 3)\n",
    "print(p1)"
   ]
  },
  {
   "cell_type": "markdown",
   "metadata": {},
   "source": [
    "### Linear Data Structure\n",
    "**Stack**: Last In First Out (LIFO)\n",
    "- `push`: Insert an element into the top of the stack\n",
    "- `pop`: Removes an element from the top of the stack\n",
    "- `peek`: Reads an element from the top WITHOUT removing it\n",
    "\n",
    "**Call stack**: The last function to gets called will be the first to end\n",
    "\n",
    "**Queue**: First in First Out (FIFO)\n",
    "- `enqueue`: Put an element into the rear of the queue\n",
    "- `dequeue`: Removes an element from the front of the queue\n",
    "- `peek`: Look at the element from the front of the queue without removing it"
   ]
  },
  {
   "cell_type": "code",
   "execution_count": 42,
   "metadata": {},
   "outputs": [
    {
     "name": "stdout",
     "output_type": "stream",
     "text": [
      "11\n"
     ]
    }
   ],
   "source": [
    "# Post-fix evaluation with stack\n",
    "\"\"\"\n",
    "Post-Fix Evaluation Steps:\n",
    "1. Read the expression from left to right.\n",
    "2. If it is an operand (not an operator symbol), do the following:\n",
    "    2.1. put the operand into the stack.\n",
    "3. Otherwise (this is an operator), do the following:\n",
    "    3.1. pop out the top of the stack as the *right* operand\n",
    "    3.1. pop out the top of the stack as the *left* operand\n",
    "    3.1. evaluate the operator with the operands\n",
    "    3.1. push the result into the stack\n",
    "\"\"\"\n",
    "\n",
    "def post_fix(eqn: str):\n",
    "    stack = []\n",
    "\n",
    "    operators = {\n",
    "        \"*\": lambda x,y: x*y,\n",
    "        \"/\": lambda x,y: x/y,\n",
    "        \"+\": lambda x,y: x+y,\n",
    "        \"-\": lambda x,y: x-y\n",
    "    }\n",
    "\n",
    "    for i in eqn:\n",
    "        if i.isdigit():\n",
    "            stack.append(int(i))\n",
    "        else:\n",
    "            operator = operators[i]\n",
    "            right = stack.pop()\n",
    "            left = stack.pop()\n",
    "\n",
    "            result = operator(left, right)\n",
    "            stack.append(result)\n",
    "    \n",
    "    return stack[0]\n",
    "\n",
    "print(post_fix(\"42*3+\"))"
   ]
  },
  {
   "cell_type": "code",
   "execution_count": 43,
   "metadata": {},
   "outputs": [],
   "source": [
    "# Radix sort with queue - non-comparison sorting algo\n",
    "from collections import deque\n",
    "def radix_sort(arr):\n",
    "    max_num = max(arr)\n",
    "    max_digits = len(str(max_num))\n",
    "\n",
    "    # Create 10 buckets (queues) for digits 0-9\n",
    "    buckets = [deque() for _ in range(10)]\n",
    "\n",
    "    # Perform sorting for each digit"
   ]
  },
  {
   "cell_type": "code",
   "execution_count": 44,
   "metadata": {},
   "outputs": [
    {
     "name": "stdout",
     "output_type": "stream",
     "text": [
      "3\n",
      "5\n"
     ]
    },
    {
     "data": {
      "text/plain": [
       "8"
      ]
     },
     "execution_count": 44,
     "metadata": {},
     "output_type": "execute_result"
    }
   ],
   "source": [
    "# Queue implemented with double stack\n",
    "class queueDoubleStack:\n",
    "    \"\"\"\n",
    "    2 array attribute, one for left, one for right\n",
    "    When adding, just add to right\n",
    "    When removing, just remove to left\n",
    "\n",
    "    When left is empty, bring everything from right to left. And since the bringing of elements from right to left already inverts the order. It will be like a queue where it is FIFO instead of FILO in a stack\n",
    "    \"\"\"\n",
    "    def __init__(self):\n",
    "        self._left_stack = []\n",
    "        self._right_stack = []\n",
    "\n",
    "    def enqueue(self, item):\n",
    "        self._right_stack.append(item)\n",
    "\n",
    "    def dequeue(self):\n",
    "        # If empty left\n",
    "        if len(self._left_stack) == 0:\n",
    "            n = len(self._right_stack)\n",
    "            for _ in range(n):\n",
    "                self._left_stack.append(self._right_stack.pop())\n",
    "\n",
    "        return self._left_stack.pop()\n",
    "    \n",
    "queue = queueDoubleStack()\n",
    "queue.enqueue(3)\n",
    "queue.enqueue(5)\n",
    "print(queue.dequeue())\n",
    "queue.enqueue(8)\n",
    "print(queue.dequeue())\n",
    "queue.dequeue()\n",
    "# queue.dequeue()\n"
   ]
  },
  {
   "cell_type": "code",
   "execution_count": 45,
   "metadata": {},
   "outputs": [
    {
     "data": {
      "text/plain": [
       "[0, 1]"
      ]
     },
     "execution_count": 45,
     "metadata": {},
     "output_type": "execute_result"
    }
   ],
   "source": [
    "list(range(2))"
   ]
  },
  {
   "cell_type": "code",
   "execution_count": null,
   "metadata": {},
   "outputs": [],
   "source": []
  }
 ],
 "metadata": {
  "kernelspec": {
   "display_name": "DDW",
   "language": "python",
   "name": "python3"
  },
  "language_info": {
   "codemirror_mode": {
    "name": "ipython",
    "version": 3
   },
   "file_extension": ".py",
   "mimetype": "text/x-python",
   "name": "python",
   "nbconvert_exporter": "python",
   "pygments_lexer": "ipython3",
   "version": "3.12.5"
  }
 },
 "nbformat": 4,
 "nbformat_minor": 2
}
