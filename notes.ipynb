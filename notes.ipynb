{
 "cells": [
  {
   "cell_type": "markdown",
   "metadata": {},
   "source": [
    "## Bubble Sort\n",
    "Possible optimisation:\n",
    "1. A bool value that chooses when to stop: `swapped`\n",
    "2. Reduce the number of inner_iteration by `n = n-1` by outer iteration\n",
    "3. Don't have to decrease the ending_element by just once per loop. It can happen that more than one element was placed into their final position in one outer iteration. `n = n_new`"
   ]
  },
  {
   "cell_type": "code",
   "execution_count": 50,
   "metadata": {},
   "outputs": [
    {
     "name": "stdout",
     "output_type": "stream",
     "text": [
      "[1, 2, 3, 4, 7, 8, 8, 10, 14, 16]\n"
     ]
    }
   ],
   "source": [
    "## Bubble sort\n",
    "arr = [16, 14, 10, 8, 7, 8, 3, 2, 4, 1]\n",
    "\n",
    "n = len(arr)\n",
    "swapped = True #When swap=False, the arr is in order\n",
    "\n",
    "# Outer loop that chooses the final element - n=new_n - to swap\n",
    "while(swapped):\n",
    "\tswapped = False # Turn false for now, if swap occurs, turn true again\n",
    "\tnew_n = 0\n",
    "\t\n",
    "\t# Inner loop that does the swapping\n",
    "\tfor inner_index in range(1, n):\n",
    "\t\tfirst_number = arr[inner_index-1] # First loop: first element\n",
    "\t\tsecond_number = arr[inner_index] # First loop: second element\n",
    "\t\t\n",
    "\t\tif(first_number > second_number):\n",
    "\t\t\tarr[inner_index-1], arr[inner_index] = arr[inner_index], arr[inner_index-1]\n",
    "\t\t\tswapped = True # Swap occurred\n",
    "\t\t\tnew_n = inner_index # new_n is basically the element that is already sorted\n",
    "\tn = new_n\n",
    "\t\n",
    "print(arr)"
   ]
  },
  {
   "cell_type": "markdown",
   "metadata": {},
   "source": [
    "## Insertion Sort\n",
    "Given an array `[7, 8, 10, 14, 16, 8, 3, 2, 4, 1]`\n",
    "The first iteration starts looking at the 2nd element `8`, but since everything in front of it is sorted, it passes.\n",
    "Second iteration same thing but looks at `10` instead\n",
    "...\n",
    "5th iteration looks at '8' and inserts it all the way to the front, WHILE shifting the other elements rightward\n",
    "\n",
    "Optimisation:\n",
    "1. Instead of swapping everything, just shift other element, but INSERT the targeted element that the outer_loop is looking at"
   ]
  },
  {
   "cell_type": "code",
   "execution_count": 51,
   "metadata": {},
   "outputs": [
    {
     "name": "stdout",
     "output_type": "stream",
     "text": [
      "[1, 2, 3, 4, 7, 8, 8, 10, 14, 16]\n"
     ]
    }
   ],
   "source": [
    "## Insertion Sort\n",
    "arr = [16, 14, 10, 8, 7, 8, 3, 2, 4, 1]\n",
    "n = len(arr)\n",
    "\n",
    "for outer_index in range(1, n):\n",
    "    inner_index = outer_index # start with the i-th element\n",
    "    temp = arr[inner_index] # store the value of the thing to be swapped\n",
    "    while(inner_index > 0 and temp < arr[inner_index-1]):\n",
    "        arr[inner_index] = arr[inner_index-1] # instead of doing a swap here, just shift the left element rightwards\n",
    "        inner_index = inner_index - 1 # move leftwards\n",
    "    arr[inner_index] = temp # move the temp into the array\n",
    "\n",
    "print(arr)"
   ]
  },
  {
   "cell_type": "markdown",
   "metadata": {},
   "source": [
    "## Binary Heap\n",
    "Binary heap is a complete binary tree-based data structure that satisfies the heap property.\n",
    "\n",
    "### Binary Tree\n",
    "- One root node\n",
    "- Each node has 2 children: left child and right child\n",
    "- Node w/o children are called leaves\n",
    "- **Full binary tree**: Every node except leaves have 2 children\n",
    "- **Complete binary tree**: Every level, except possibly the last is completely filled. And all nodes are as left as possible.\n",
    "\n",
    "### Finding chlidren and parents\n",
    "- Finding left child: `(parent_index*2) + 1`\n",
    "- Finding right child: `(parent_index*2) + 2`"
   ]
  },
  {
   "cell_type": "code",
   "execution_count": 67,
   "metadata": {},
   "outputs": [
    {
     "ename": "SyntaxError",
     "evalue": "unmatched ')' (1285160811.py, line 29)",
     "output_type": "error",
     "traceback": [
      "\u001b[0;36m  Cell \u001b[0;32mIn[67], line 29\u001b[0;36m\u001b[0m\n\u001b[0;31m    current_i = max_child_i)\u001b[0m\n\u001b[0m                           ^\u001b[0m\n\u001b[0;31mSyntaxError\u001b[0m\u001b[0;31m:\u001b[0m unmatched ')'\n"
     ]
    }
   ],
   "source": [
    "## Max heapify (Restores max heap property of tree starting from current node, only looks below)\n",
    "def max_heapify(A, i):\n",
    "    \"\"\"\n",
    "    Assumes that the left and right children of the current node satisfy the max heap property.\n",
    "    Any changes done to the children is the only source of chaos that makes the children not max heap property\n",
    "    \"\"\"\n",
    "    n = len(A)\n",
    "    current_i = i # Current index starts from the input argument\n",
    "    swapped = True\n",
    "    \n",
    "    while((current_i < n) and swapped):\n",
    "        swapped = False\n",
    "        left = current_i*2 + 1\n",
    "        right = current_i*2 + 2 \n",
    "    \n",
    "        # Find the index of the largest child\n",
    "        if left<n and (right>=n or A[left]>A[right]):\n",
    "            max_child_i = left\n",
    "        elif right<n:\n",
    "            max_child_i = right\n",
    "        else:\n",
    "            break # No children, break out of loop\n",
    "\n",
    "        # Compares the biggest child and parent. Swap if child>parent\n",
    "        if A[max_child_i] > A[current_i]:\n",
    "            A[max_child_i], A[current_i] = A[current_i], A[max_child_i]\n",
    "            swapped = True\n",
    "\n",
    "        current_i = max_child_i)\n",
    "\n",
    "\n",
    "# Test max heapify\n",
    "A = [2,3,4,10,2,3,5,7,8,1,3]\n",
    "max_heapify(A, 1)\n",
    "print(A)"
   ]
  },
  {
   "cell_type": "code",
   "execution_count": 68,
   "metadata": {},
   "outputs": [
    {
     "name": "stdout",
     "output_type": "stream",
     "text": [
      "[2, 3, 4, 10, 3, 3, 5, 7, 8, 1, 2]\n",
      "[2, 3, 4, 10, 3, 3, 5, 7, 8, 1, 2]\n",
      "[2, 3, 5, 10, 3, 3, 4, 7, 8, 1, 2]\n",
      "[2, 10, 5, 8, 3, 3, 4, 7, 3, 1, 2]\n",
      "[10, 8, 5, 7, 3, 3, 4, 2, 3, 1, 2]\n",
      "[10, 8, 5, 7, 3, 3, 4, 2, 3, 1, 2]\n"
     ]
    }
   ],
   "source": [
    "## Build Max Heap\n",
    "def build_max_heap(A):\n",
    "    n = len(A)\n",
    "    starting_index = int(n/2) - 1 # All elements after this is all leaves node\n",
    "    for current_index in range(starting_index, -1, -1):\n",
    "        max_heapify(A, current_index)\n",
    "\n",
    "\n",
    "# Test build_max_heap\n",
    "A = [2,3,4,10,2,3,5,7,8,1,3]\n",
    "build_max_heap(A)\n",
    "print(A)"
   ]
  },
  {
   "cell_type": "markdown",
   "metadata": {},
   "source": [
    "## Heapsort\n",
    "There is only 2 steps to heapsort\n",
    "1. Take the root element and swap with the last element. Then remove the now last element and put it into a sorted list. <br />\n",
    "`heap = [16, 14, 9, 10, 2, 8, 3, 7, 4, 1]` <br />\n",
    "`heap = [1, 14, 9, 10, 2, 8, 3, 7, 4 ,|| 16]`\n",
    "2. Apply max_heapify on the now root element <br />\n",
    "`heap = [14, 10, 9, 7, 2, 8, 3, 1, 4, || 16]`\n",
    "3. Rinse and repeat step 1&2"
   ]
  },
  {
   "cell_type": "code",
   "execution_count": 69,
   "metadata": {},
   "outputs": [
    {
     "name": "stdout",
     "output_type": "stream",
     "text": [
      "[1, 2, 8, 7, 16, 9, 3, 10, 4, 14]\n",
      "[1, 2, 8, 10, 16, 9, 3, 7, 4, 14]\n",
      "[1, 2, 9, 10, 16, 8, 3, 7, 4, 14]\n",
      "[1, 16, 9, 10, 14, 8, 3, 7, 4, 2]\n",
      "[16, 14, 9, 10, 2, 8, 3, 7, 4, 1]\n",
      "[14, 10, 9, 7, 2, 8, 3, 1, 4]\n",
      "[14, 10, 9, 7, 2, 8, 3, 4]\n",
      "[14, 10, 9, 7, 2, 8, 3]\n",
      "[14, 10, 9, 3, 2, 8]\n",
      "[14, 10, 9, 8, 2]\n",
      "[14, 10, 9, 2]\n",
      "[14, 10, 9]\n",
      "[14, 9]\n",
      "[14]\n"
     ]
    }
   ],
   "source": [
    "def heapsort(A):\n",
    "    build_max_heap(A)\n",
    "    heap_end_pos = len(A) - 1\n",
    "    while(heap_end_pos > 0):\n",
    "        A[0], A[heap_end_pos] = A[heap_end_pos], A[0]\n",
    "        heap_end_pos -= 1 # Reduce heap size\n",
    "        subArray = A[0:heap_end_pos + 1]\n",
    "        \n",
    "        max_heapify(A[0:heap_end_pos + 1], 0)\n",
    "\n",
    "## Test \n",
    "A = [1, 2, 8, 7, 14, 9, 3, 10, 4, 16]\n",
    "heapsort(A)\n",
    "# print(A)"
   ]
  },
  {
   "cell_type": "code",
   "execution_count": 65,
   "metadata": {},
   "outputs": [
    {
     "name": "stdout",
     "output_type": "stream",
     "text": [
      "[2, 1, 3, 4]\n",
      "[1, 2, 3, 4]\n"
     ]
    }
   ],
   "source": [
    "A = [1,2,3,4]\n",
    "subArray =A[::]\n",
    "subArray[0], subArray[1] = subArray[1], subArray[0]\n",
    "print(subArray)\n",
    "print(A)\n"
   ]
  },
  {
   "cell_type": "markdown",
   "metadata": {},
   "source": [
    "## Computational Time\n",
    "Big O notation: Upper bound limit\n",
    "\n",
    "| Sorting Algo    | Random List  | Sorted List  | \n",
    "| --------------- | ------------ | ------------ |\n",
    "| Bubble Sort     | $O(n^2)$     | $O(n)$       |\n",
    "| Insertion sort  | $O(n^2)$     | $O(n)$       |\n",
    "| Heap sort       | $O(nlog(n))$ | $O(nlog(n))$ | \n",
    "\n",
    "\n",
    "\n",
    "$T(n) = O(n^2)$ <br>\n",
    "For the above algorithm, plot both the x and y-axis using logarithmic scale. We should see that we get a linear slope of gradient 2. <br>\n",
    "$y=x^2$ <br>\n",
    "if we log both sides, we would get <br>\n",
    "$log(y) = 2log(x)$\n",
    "\n",
    "$T(n) = O(nlog(n))$\n",
    "For the above algorithm, plot just the x-axis as $nlog(n)$ to see the linear relationship."
   ]
  },
  {
   "cell_type": "markdown",
   "metadata": {},
   "source": [
    "### Analysing Computation Time using Model\n",
    "Break the algortihm into its steps instead of running experiments.\n",
    "\n",
    "Note that Big O doesn't care about the constant factors - multiplication is ignored.\n",
    "- O(n/2) = O(n)\n",
    "- 2*O(1) = O(1)"
   ]
  },
  {
   "cell_type": "code",
   "execution_count": null,
   "metadata": {},
   "outputs": [],
   "source": []
  }
 ],
 "metadata": {
  "kernelspec": {
   "display_name": "DDW",
   "language": "python",
   "name": "python3"
  },
  "language_info": {
   "codemirror_mode": {
    "name": "ipython",
    "version": 3
   },
   "file_extension": ".py",
   "mimetype": "text/x-python",
   "name": "python",
   "nbconvert_exporter": "python",
   "pygments_lexer": "ipython3",
   "version": "3.12.5"
  }
 },
 "nbformat": 4,
 "nbformat_minor": 2
}
