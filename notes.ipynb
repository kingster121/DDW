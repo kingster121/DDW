{
 "cells": [
  {
   "cell_type": "markdown",
   "metadata": {},
   "source": [
    "## Bubble Sort\n",
    "Possible optimisation:\n",
    "1. A bool value that chooses when to stop: `swapped`\n",
    "2. Reduce the number of inner_iteration by `n = n-1` by outer iteration\n",
    "3. Don't have to decrease the ending_element by just once per loop. It can happen that more than one element was placed into their final position in one outer iteration. `n = n_new`"
   ]
  },
  {
   "cell_type": "code",
   "execution_count": 20,
   "metadata": {},
   "outputs": [
    {
     "name": "stdout",
     "output_type": "stream",
     "text": [
      "[1, 2, 3, 4, 7, 8, 8, 10, 14, 16]\n"
     ]
    }
   ],
   "source": [
    "## Bubble sort\n",
    "arr = [16, 14, 10, 8, 7, 8, 3, 2, 4, 1]\n",
    "\n",
    "n = len(arr)\n",
    "swapped = True #When swap=False, the arr is in order\n",
    "\n",
    "# Outer loop that chooses the final element - n=new_n - to swap\n",
    "while(swapped):\n",
    "\tswapped = False # Turn false for now, if swap occurs, turn true again\n",
    "\tnew_n = 0\n",
    "\t\n",
    "\t# Inner loop that does the swapping\n",
    "\tfor inner_index in range(1, n):\n",
    "\t\tfirst_number = arr[inner_index-1] # First loop: first element\n",
    "\t\tsecond_number = arr[inner_index] # First loop: second element\n",
    "\t\t\n",
    "\t\tif(first_number > second_number):\n",
    "\t\t\tarr[inner_index-1], arr[inner_index] = arr[inner_index], arr[inner_index-1]\n",
    "\t\t\tswapped = True # Swap occurred\n",
    "\t\t\tnew_n = inner_index # new_n is basically the element that is already sorted\n",
    "\tn = new_n\n",
    "\t\n",
    "print(arr)"
   ]
  },
  {
   "cell_type": "markdown",
   "metadata": {},
   "source": [
    "## Insertion Sort\n",
    "Given an array `[7, 8, 10, 14, 16, 8, 3, 2, 4, 1]`\n",
    "The first iteration starts looking at the 2nd element `8`, but since everything in front of it is sorted, it passes.\n",
    "Second iteration same thing but looks at `10` instead\n",
    "...\n",
    "5th iteration looks at '8' and inserts it all the way to the front, WHILE shifting the other elements rightward\n",
    "\n",
    "Optimisation:\n",
    "1. Instead of swapping everything, just shift other element, but INSERT the targeted element that the outer_loop is looking at"
   ]
  },
  {
   "cell_type": "code",
   "execution_count": 21,
   "metadata": {},
   "outputs": [
    {
     "name": "stdout",
     "output_type": "stream",
     "text": [
      "[1, 2, 3, 4, 7, 8, 8, 10, 14, 16]\n"
     ]
    }
   ],
   "source": [
    "## Insertion Sort\n",
    "arr = [16, 14, 10, 8, 7, 8, 3, 2, 4, 1]\n",
    "n = len(arr)\n",
    "\n",
    "for outer_index in range(1, n):\n",
    "    inner_index = outer_index # start with the i-th element\n",
    "    temp = arr[inner_index] # store the value of the thing to be swapped\n",
    "    while(inner_index > 0 and temp < arr[inner_index-1]):\n",
    "        arr[inner_index] = arr[inner_index-1] # instead of doing a swap here, just shift the left element rightwards\n",
    "        inner_index = inner_index - 1 # move leftwards\n",
    "    arr[inner_index] = temp # move the temp into the array\n",
    "\n",
    "print(arr)"
   ]
  },
  {
   "cell_type": "markdown",
   "metadata": {},
   "source": [
    "## Binary Heap\n",
    "Binary heap is a complete binary tree-based data structure that satisfies the heap property.\n",
    "\n",
    "### Binary Tree\n",
    "- One root node\n",
    "- Each node has 2 children: left child and right child\n",
    "- Node w/o children are called leaves\n",
    "- **Full binary tree**: Every node except leaves have 2 children\n",
    "- **Complete binary tree**: Every level, except possibly the last is completely filled. And all nodes are as left as possible.\n",
    "\n",
    "### Finding chlidren and parents\n",
    "- Finding left child: `(parent_index*2) + 1`\n",
    "- Finding right child: `(parent_index*2) + 2`"
   ]
  },
  {
   "cell_type": "code",
   "execution_count": 22,
   "metadata": {},
   "outputs": [],
   "source": [
    "def max_child(array: list[int|float], index: int, heap_size: int):\n",
    "    \"\"\"Returns index of bigger child\"\"\"\n",
    "    left = index*2 + 1\n",
    "    right = index*2 + 2\n",
    "\n",
    "    # If there only exist left child, by default, the left child will be the max child\n",
    "    if right>=heap_size:\n",
    "        return left\n",
    "    if array[left]>array[right]:\n",
    "        return left\n",
    "    return right"
   ]
  },
  {
   "cell_type": "code",
   "execution_count": 23,
   "metadata": {},
   "outputs": [
    {
     "name": "stdout",
     "output_type": "stream",
     "text": [
      "[16, 14, 10, 8, 7, 9, 3, 2, 4, 1]\n"
     ]
    }
   ],
   "source": [
    "def max_heapify(array: list[int|float], index: int, size: int) -> None:\n",
    "    \"\"\"\n",
    "    1. Assumes that the whole heap except for the current node and the children are sorted\n",
    "    2. Any unsortedness after swapping is only caused to the swapped children\n",
    "    \"\"\"\n",
    "    current_i = index\n",
    "    swapped = True\n",
    "\n",
    "    while(current_i < size and swapped):\n",
    "        swapped = False\n",
    "        left = current_i*2 + 1\n",
    "        right = current_i*2 + 2 \n",
    "\n",
    "        # Exit if there is no left child. It is a leaf node\n",
    "        if left>=size:\n",
    "            break\n",
    "\n",
    "        max_child_i = max_child(array, current_i, size)\n",
    "\n",
    "        # Swap child and current element\n",
    "        if array[max_child_i]>array[current_i]:\n",
    "            array[max_child_i], array[current_i] = array[current_i], array[max_child_i]\n",
    "            swapped = True\n",
    "\n",
    "        current_i = max_child_i\n",
    "\n",
    "# Test max_heapify\n",
    "result: list[int|float] = [16, 4, 10, 14, 7, 9, 3, 2, 8, 1]\n",
    "max_heapify(result, 1, len(result))\n",
    "print(result)\n",
    "assert result == [16, 14, 10, 8, 7, 9, 3, 2, 4, 1]"
   ]
  },
  {
   "cell_type": "code",
   "execution_count": 24,
   "metadata": {},
   "outputs": [
    {
     "name": "stdout",
     "output_type": "stream",
     "text": [
      "[16, 14, 10, 8, 7, 9, 3, 2, 4, 1]\n"
     ]
    }
   ],
   "source": [
    "## Build Max Heap\n",
    "def build_max_heap(array: list[int|float]) -> None:\n",
    "    \"\"\"\n",
    "    1. Find the last parent element and start heapifying from there\n",
    "    2. Increase upwards the heapify towards the root\n",
    "    \"\"\"\n",
    "    starting_index = len(array)//2 - 1\n",
    "\n",
    "    for current_index in range(starting_index, -1, -1):\n",
    "        max_heapify(array, current_index, len(array))\n",
    "\n",
    "# Test build_max_heap\n",
    "array: list[int|float] = [4, 1, 3, 2, 16, 9, 10, 14, 8, 7]\n",
    "build_max_heap(array)\n",
    "print(array)\n",
    "assert array == [16, 14, 10, 8, 7, 9, 3, 2, 4, 1]\n"
   ]
  },
  {
   "cell_type": "markdown",
   "metadata": {},
   "source": [
    "## Heapsort\n",
    "There is only 2 steps to heapsort\n",
    "1. Take the root element and swap with the last element. Then remove the now last element and put it into a sorted list. <br />\n",
    "`heap = [16, 14, 9, 10, 2, 8, 3, 7, 4, 1]` <br />\n",
    "`heap = [1, 14, 9, 10, 2, 8, 3, 7, 4 ,|| 16]`\n",
    "2. Apply max_heapify on the now root element <br />\n",
    "`heap = [14, 10, 9, 7, 2, 8, 3, 1, 4, || 16]`\n",
    "3. Rinse and repeat step 1&2"
   ]
  },
  {
   "cell_type": "code",
   "execution_count": 25,
   "metadata": {},
   "outputs": [
    {
     "name": "stdout",
     "output_type": "stream",
     "text": [
      "[1, 2, 3, 4, 7, 8, 9, 10, 14, 16]\n"
     ]
    }
   ],
   "source": [
    "def heapsort(array: list[int|float]) -> None:\n",
    "    \"\"\"\n",
    "    1. Build max heap\n",
    "    2. Swap root and last element\n",
    "    3. Max heapify the root element. Exclude the last element from future sorts\n",
    "    4. Repeat step 2 & 3\n",
    "    \"\"\"\n",
    "    build_max_heap(array)\n",
    "    n = len(array) - 1\n",
    "\n",
    "    for last_element in range(n,0,-1):\n",
    "        array[last_element], array[0] = array[0], array[last_element]\n",
    "        max_heapify(array, 0, last_element)\n",
    "\n",
    "## Test \n",
    "array: list[int|float] = [16, 14, 10, 8, 7, 9, 3, 2, 4, 1]\n",
    "heapsort(array)\n",
    "print(array)\n",
    "assert array == [1, 2, 3, 4, 7, 8, 9, 10, 14, 16]"
   ]
  },
  {
   "cell_type": "markdown",
   "metadata": {},
   "source": [
    "## Computational Time\n",
    "Big O notation: Upper bound limit\n",
    "\n",
    "| Sorting Algo    | Random List  | Sorted List  | \n",
    "| --------------- | ------------ | ------------ |\n",
    "| Bubble Sort     | $O(n^2)$     | $O(n)$       |\n",
    "| Insertion sort  | $O(n^2)$     | $O(n)$       |\n",
    "| Heap sort       | $O(nlog(n))$ | $O(nlog(n))$ | \n",
    "\n",
    "\n",
    "\n",
    "$T(n) = O(n^2)$ <br>\n",
    "For the above algorithm, plot both the x and y-axis using logarithmic scale. We should see that we get a linear slope of gradient 2. <br>\n",
    "$y=x^2$ <br>\n",
    "if we log both sides, we would get <br>\n",
    "$log(y) = 2log(x)$\n",
    "\n",
    "$T(n) = O(nlog(n))$\n",
    "For the above algorithm, plot just the x-axis as $nlog(n)$ to see the linear relationship."
   ]
  },
  {
   "cell_type": "markdown",
   "metadata": {},
   "source": [
    "### Analysing Computation Time using Model\n",
    "Break the algortihm into its steps instead of running experiments.\n",
    "\n",
    "Note that Big O doesn't care about the constant factors - multiplication is ignored.\n",
    "- O(n/2) = O(n)\n",
    "- 2*O(1) = O(1)\n",
    "\n",
    "### Multiplying between 2 Big O's\n",
    "- $O(n) * O(log(n)) = O(nlog(n))$\n",
    "\n",
    "### Understanding Maxheapify\n",
    "`while((current_i < n) and swapped):` This line runs at `O(log(n))`, think of the number of levels vs the number nodes relationship."
   ]
  },
  {
   "cell_type": "markdown",
   "metadata": {},
   "source": [
    "### Big Oh (Upper Bound)\n",
    "Used to define the upperbound on the growth of a function\n",
    "$f(x) = O(g(x))$ <br>\n",
    "if and only if <br>\n",
    "$lim_{x \\rightarrow \\infty} sup \\frac{f(x)}{g(x)} < \\infty$\n",
    "\n",
    "### Big Omega (Lower Bound)\n",
    "Used to describe the lowerbound of an algorithm, expresses the best case running time of an algorithm                             \n",
    "\n",
    "### Big Theta (Average Bound)\n",
    "Used to describe the average bound of the algorithm. Used when the upper and lower bound can be expressed as the same g(n). <br>\n",
    "$c_1g(n) \\leq f(n) \\leq c_2g(n)$\n",
    "\n",
    "### Little Oh (*STRICT* Upper Bound)\n",
    "Describes a strict upper bound. If f(n)=o(g(n)) then f(n) grows strictly slower than g(n)"
   ]
  },
  {
   "cell_type": "code",
   "execution_count": null,
   "metadata": {},
   "outputs": [],
   "source": []
  }
 ],
 "metadata": {
  "kernelspec": {
   "display_name": "DDW",
   "language": "python",
   "name": "python3"
  },
  "language_info": {
   "codemirror_mode": {
    "name": "ipython",
    "version": 3
   },
   "file_extension": ".py",
   "mimetype": "text/x-python",
   "name": "python",
   "nbconvert_exporter": "python",
   "pygments_lexer": "ipython3",
   "version": "3.12.5"
  }
 },
 "nbformat": 4,
 "nbformat_minor": 2
}
